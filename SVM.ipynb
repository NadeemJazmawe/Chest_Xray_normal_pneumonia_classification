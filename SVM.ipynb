{
  "nbformat": 4,
  "nbformat_minor": 0,
  "metadata": {
    "colab": {
      "name": "SVM.ipynb",
      "provenance": [],
      "collapsed_sections": [],
      "toc_visible": true
    },
    "kernelspec": {
      "name": "python3",
      "display_name": "Python 3"
    },
    "language_info": {
      "name": "python"
    }
  },
  "cells": [
    {
      "cell_type": "markdown",
      "source": [
        "Uploading the Dataset from my Drive"
      ],
      "metadata": {
        "id": "pWWsisFPpJR0"
      }
    },
    {
      "cell_type": "code",
      "execution_count": 11,
      "metadata": {
        "colab": {
          "base_uri": "https://localhost:8080/"
        },
        "id": "qbyvLNZ_SE2M",
        "outputId": "7db86b59-b69b-4071-b96a-b8cb4ca7aa94"
      },
      "outputs": [
        {
          "output_type": "stream",
          "name": "stdout",
          "text": [
            "Drive already mounted at /content/gdrive; to attempt to forcibly remount, call drive.mount(\"/content/gdrive\", force_remount=True).\n"
          ]
        }
      ],
      "source": [
        "# ! gdown https://drive.google.com/drive/folders/1eJPlwS6bd_3SUlm-rh_t7KglTaR4zrIQ?usp=sharing\n",
        "\n",
        "from google.colab import drive\n",
        "drive.mount('/content/gdrive')"
      ]
    },
    {
      "cell_type": "markdown",
      "source": [
        "Importing libraries"
      ],
      "metadata": {
        "id": "_JlSFYHUpJlN"
      }
    },
    {
      "cell_type": "code",
      "source": [
        "import tensorflow as tf\n",
        "import random\n",
        "import cv2\n",
        "import numpy as np\n",
        "import matplotlib.pyplot as plt\n",
        "import os\n",
        "from tqdm import tqdm"
      ],
      "metadata": {
        "id": "1xjzd_TYSMN2"
      },
      "execution_count": 12,
      "outputs": []
    },
    {
      "cell_type": "markdown",
      "source": [
        "Creating the DataSet, it spelt to: training/testing/validation data"
      ],
      "metadata": {
        "id": "YGiS5KvqpPZQ"
      }
    },
    {
      "cell_type": "code",
      "source": [
        "IMG_SIZE = 150\n",
        "categories = [\"NORMAL\", \"PNEUMONIA\"]\n",
        "\n",
        "def create_data(data_path=\"/content/gdrive/MyDrive/chest_xray/train\"):\n",
        "    Created_data = []\n",
        "    for category in categories:\n",
        "\n",
        "        path = os.path.join(data_path,category)\n",
        "        class_num = categories.index(category) \n",
        "        count = 0\n",
        "        for img in tqdm(os.listdir(path)):\n",
        "            count += 1\n",
        "            if class_num == 1 and count == 1352:\n",
        "                break\n",
        "            try:\n",
        "                img_array = cv2.imread(os.path.join(path,img) ,cv2.IMREAD_GRAYSCALE)\n",
        "                new_array = cv2.resize(img_array, (IMG_SIZE, IMG_SIZE)).flatten()\n",
        "                if class_num == 0:\n",
        "                    array = 0\n",
        "                else:\n",
        "                    array = 1\n",
        "                Created_data.append([new_array, array])\n",
        "            except Exception as e: \n",
        "                pass\n",
        "\n",
        "    return Created_data\n",
        "\n",
        "print(\"Creating training Data: \")\n",
        "training_data = create_data(\"/content/gdrive/MyDrive/chest_xray/train\")\n",
        "\n",
        "print(\"Creating testing Data: \")\n",
        "test_data = create_data(\"/content/gdrive/MyDrive/chest_xray/test\")\n",
        "\n",
        "print(\"Creating validation Data: \")\n",
        "val_data = create_data(\"/content/gdrive/MyDrive/chest_xray/val\")"
      ],
      "metadata": {
        "colab": {
          "base_uri": "https://localhost:8080/"
        },
        "id": "hOptYtl4SMRX",
        "outputId": "7a100b23-f75a-411b-e239-f25846e007ee"
      },
      "execution_count": 13,
      "outputs": [
        {
          "output_type": "stream",
          "name": "stdout",
          "text": [
            "Creating training Data: \n"
          ]
        },
        {
          "output_type": "stream",
          "name": "stderr",
          "text": [
            "100%|██████████| 1352/1352 [00:42<00:00, 31.51it/s]\n",
            " 35%|███▍      | 1351/3876 [00:17<00:31, 79.38it/s]\n"
          ]
        },
        {
          "output_type": "stream",
          "name": "stdout",
          "text": [
            "Creating testing Data: \n"
          ]
        },
        {
          "output_type": "stream",
          "name": "stderr",
          "text": [
            "100%|██████████| 244/244 [00:04<00:00, 48.86it/s]\n",
            "100%|██████████| 390/390 [00:03<00:00, 105.75it/s]\n"
          ]
        },
        {
          "output_type": "stream",
          "name": "stdout",
          "text": [
            "Creating validation Data: \n"
          ]
        },
        {
          "output_type": "stream",
          "name": "stderr",
          "text": [
            "100%|██████████| 9/9 [00:00<00:00, 54.98it/s]\n",
            "100%|██████████| 9/9 [00:00<00:00, 100.20it/s]\n"
          ]
        }
      ]
    },
    {
      "cell_type": "markdown",
      "source": [
        "Shuffling the Data to purpose of reducing variance and making sure that models remain general and overfit less."
      ],
      "metadata": {
        "id": "eT-ZM0c_pQnR"
      }
    },
    {
      "cell_type": "code",
      "source": [
        "random.shuffle(training_data)\n",
        "random.shuffle(test_data)\n",
        "random.shuffle(val_data)"
      ],
      "metadata": {
        "id": "45AhPCwtZxQT"
      },
      "execution_count": 14,
      "outputs": []
    },
    {
      "cell_type": "markdown",
      "source": [
        "Spilting data into categories"
      ],
      "metadata": {
        "id": "8UGt96q8pRyg"
      }
    },
    {
      "cell_type": "code",
      "source": [
        "x_train, x_test, x_val = [], [], []\n",
        "y_train, y_test, y_val = [], [], []\n",
        "\n",
        "for features,label in training_data:\n",
        "    x_train.append(features)\n",
        "    y_train.append(label)\n",
        "    \n",
        "for features,label in test_data:\n",
        "    x_test.append(features)\n",
        "    y_test.append(label)\n",
        "\n",
        "for features,label in val_data:\n",
        "    x_val.append(features)\n",
        "    y_val.append(label)"
      ],
      "metadata": {
        "id": "nihfkWVHWYAb"
      },
      "execution_count": 15,
      "outputs": []
    },
    {
      "cell_type": "markdown",
      "source": [
        "Converting The data from List to numpy Arrays, So the model can read it."
      ],
      "metadata": {
        "id": "-mUZ6EaTpSaU"
      }
    },
    {
      "cell_type": "code",
      "source": [
        "import pandas as pd\n",
        "\n",
        "x_train = pd.DataFrame(np.asarray(x_train))\n",
        "y_train = pd.DataFrame(np.asarray(y_train))\n",
        "\n",
        "x_test = pd.DataFrame(np.asarray(x_test))\n",
        "y_test = pd.DataFrame(np.asarray(y_test))\n",
        "\n",
        "x_val = pd.DataFrame(np.asarray(x_val))\n",
        "y_val = pd.DataFrame(np.asarray(y_val))"
      ],
      "metadata": {
        "id": "10MoAPiOWYDM"
      },
      "execution_count": 16,
      "outputs": []
    },
    {
      "cell_type": "markdown",
      "source": [
        "Inserting SVM model from sklearn library"
      ],
      "metadata": {
        "id": "2HD8VWMDpTjJ"
      }
    },
    {
      "cell_type": "code",
      "source": [
        "from sklearn.svm import SVC\n",
        "model = SVC()"
      ],
      "metadata": {
        "id": "DB5mK_UdYchc"
      },
      "execution_count": 17,
      "outputs": []
    },
    {
      "cell_type": "markdown",
      "source": [
        "Fiting the model"
      ],
      "metadata": {
        "id": "dfUeuC3qpUD7"
      }
    },
    {
      "cell_type": "code",
      "source": [
        "model.fit(x_train, y_train)"
      ],
      "metadata": {
        "colab": {
          "base_uri": "https://localhost:8080/"
        },
        "id": "bB37jumpYcjw",
        "outputId": "c44fb642-5d17-4f6d-fe11-11a06362471a"
      },
      "execution_count": 18,
      "outputs": [
        {
          "output_type": "stream",
          "name": "stderr",
          "text": [
            "/usr/local/lib/python3.7/dist-packages/sklearn/utils/validation.py:993: DataConversionWarning: A column-vector y was passed when a 1d array was expected. Please change the shape of y to (n_samples, ), for example using ravel().\n",
            "  y = column_or_1d(y, warn=True)\n"
          ]
        },
        {
          "output_type": "execute_result",
          "data": {
            "text/plain": [
              "SVC()"
            ]
          },
          "metadata": {},
          "execution_count": 18
        }
      ]
    },
    {
      "cell_type": "markdown",
      "source": [
        "Checking model accuracy"
      ],
      "metadata": {
        "id": "wuB72n3cpWBE"
      }
    },
    {
      "cell_type": "code",
      "source": [
        "acc = model.score(x_test, y_test)\n",
        "print(\"Accuracy: {:.2f}%\".format(acc * 100))"
      ],
      "metadata": {
        "colab": {
          "base_uri": "https://localhost:8080/"
        },
        "id": "n3tkzYGBYcmA",
        "outputId": "34000705-5869-4b8c-9ab7-ac230c96eda5"
      },
      "execution_count": 20,
      "outputs": [
        {
          "output_type": "stream",
          "name": "stdout",
          "text": [
            "Accuracy: 80.28%\n"
          ]
        }
      ]
    }
  ]
}