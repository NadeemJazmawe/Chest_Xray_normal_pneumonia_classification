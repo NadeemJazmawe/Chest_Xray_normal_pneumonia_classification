{
  "nbformat": 4,
  "nbformat_minor": 0,
  "metadata": {
    "colab": {
      "name": "RNN.ipynb",
      "provenance": [],
      "collapsed_sections": []
    },
    "kernelspec": {
      "name": "python3",
      "display_name": "Python 3"
    },
    "language_info": {
      "name": "python"
    }
  },
  "cells": [
    {
      "cell_type": "markdown",
      "source": [
        "Uploading data from my Drive"
      ],
      "metadata": {
        "id": "xkYQ3SF2879v"
      }
    },
    {
      "cell_type": "code",
      "source": [
        "# ! gdown https://drive.google.com/drive/folders/1eJPlwS6bd_3SUlm-rh_t7KglTaR4zrIQ?usp=sharing\n",
        "\n",
        "from google.colab import drive\n",
        "drive.mount('/content/gdrive')"
      ],
      "metadata": {
        "id": "ZYRjSknp88bH",
        "colab": {
          "base_uri": "https://localhost:8080/"
        },
        "outputId": "8f16b516-11fe-4c76-c0db-a29dbbcc32af"
      },
      "execution_count": 1,
      "outputs": [
        {
          "output_type": "stream",
          "name": "stdout",
          "text": [
            "Mounted at /content/gdrive\n"
          ]
        }
      ]
    },
    {
      "cell_type": "markdown",
      "source": [
        "Importing libraries"
      ],
      "metadata": {
        "id": "JMMrSVMU8wXR"
      }
    },
    {
      "cell_type": "code",
      "source": [
        "import tensorflow as tf\n",
        "import numpy as np\n",
        "import random\n",
        "from tensorflow.keras.layers import Dense, Dropout, LSTM, Flatten\n",
        "from tensorflow.keras.models import Sequential"
      ],
      "metadata": {
        "id": "ujfLcOvmjjIT"
      },
      "execution_count": 2,
      "outputs": []
    },
    {
      "cell_type": "markdown",
      "source": [
        "loading data model from CNN model and normilze the array(balck and white) "
      ],
      "metadata": {
        "id": "ek1XeYHNjjP0"
      }
    },
    {
      "cell_type": "code",
      "source": [
        "x_train = np.load(\"/content/gdrive/MyDrive/saved_data/x_train.npy\", allow_pickle=True)\n",
        "x_test = np.load(\"/content/gdrive/MyDrive/saved_data/x_test.npy\", allow_pickle=True)\n",
        "y_train = np.load(\"/content/gdrive/MyDrive/saved_data/y_train.npy\", allow_pickle=True)\n",
        "y_test = np.load(\"/content/gdrive/MyDrive/saved_data/y_test.npy\", allow_pickle=True)\n",
        "\n",
        "\n",
        "x_train = x_train/255.0\n",
        "x_test = x_test/255.0"
      ],
      "metadata": {
        "id": "oeCGwoAjjjWS"
      },
      "execution_count": 3,
      "outputs": []
    },
    {
      "cell_type": "code",
      "source": [
        "print(x_train.shape)\n",
        "print(x_train[0].shape)"
      ],
      "metadata": {
        "id": "B7LmPFDco2fb",
        "colab": {
          "base_uri": "https://localhost:8080/"
        },
        "outputId": "e1657671-c445-4f74-efc7-8ce98f25e839"
      },
      "execution_count": 4,
      "outputs": [
        {
          "output_type": "stream",
          "name": "stdout",
          "text": [
            "(2692, 150, 150)\n",
            "(150, 150)\n"
          ]
        }
      ]
    },
    {
      "cell_type": "markdown",
      "source": [
        "Building the Neural Network and runnig the algorithm"
      ],
      "metadata": {
        "id": "vD4d1uYJjj4s"
      }
    },
    {
      "cell_type": "code",
      "source": [
        "model = Sequential()\n",
        "model.add(LSTM(128, input_shape=(x_train.shape[1:]), activation='relu', return_sequences=True))\n",
        "model.add(Dropout(0.2))\n",
        "\n",
        "model.add(LSTM(128, activation='relu'))\n",
        "model.add(Dropout(0.1))\n",
        "\n",
        "model.add(Dense(32, activation='relu'))\n",
        "model.add(Dropout(0.2))\n",
        "\n",
        "model.add(Dense(2, activation='softmax'))\n",
        "\n",
        "opt = tf.keras.optimizers.Adam(learning_rate=0.005, decay=1e-6)\n",
        "\n",
        "model.compile(loss='kullback_leibler_divergence',optimizer=opt, metrics=['accuracy'])\n",
        "\n",
        "model.fit(x_train, y_train, epochs=8, validation_data=(x_test, y_test))\n",
        "  "
      ],
      "metadata": {
        "id": "sStIQ9yx8whb",
        "colab": {
          "base_uri": "https://localhost:8080/"
        },
        "outputId": "a5b6d579-b677-407c-eaaa-2c26b7aeb8e6"
      },
      "execution_count": 5,
      "outputs": [
        {
          "output_type": "stream",
          "name": "stdout",
          "text": [
            "Epoch 1/8\n",
            "85/85 [==============================] - 37s 406ms/step - loss: nan - accuracy: 0.5007 - val_loss: nan - val_accuracy: 0.3849\n",
            "Epoch 2/8\n",
            "85/85 [==============================] - 35s 410ms/step - loss: nan - accuracy: 0.5019 - val_loss: nan - val_accuracy: 0.3849\n",
            "Epoch 3/8\n",
            "85/85 [==============================] - 34s 395ms/step - loss: nan - accuracy: 0.5019 - val_loss: nan - val_accuracy: 0.3849\n",
            "Epoch 4/8\n",
            "85/85 [==============================] - 34s 396ms/step - loss: nan - accuracy: 0.5019 - val_loss: nan - val_accuracy: 0.3849\n",
            "Epoch 5/8\n",
            "85/85 [==============================] - 36s 422ms/step - loss: nan - accuracy: 0.5019 - val_loss: nan - val_accuracy: 0.3849\n",
            "Epoch 6/8\n",
            "85/85 [==============================] - 34s 398ms/step - loss: nan - accuracy: 0.5019 - val_loss: nan - val_accuracy: 0.3849\n",
            "Epoch 7/8\n",
            "85/85 [==============================] - 34s 398ms/step - loss: nan - accuracy: 0.5019 - val_loss: nan - val_accuracy: 0.3849\n",
            "Epoch 8/8\n",
            "85/85 [==============================] - 35s 417ms/step - loss: nan - accuracy: 0.5019 - val_loss: nan - val_accuracy: 0.3849\n"
          ]
        },
        {
          "output_type": "execute_result",
          "data": {
            "text/plain": [
              "<keras.callbacks.History at 0x7fabaf3869d0>"
            ]
          },
          "metadata": {},
          "execution_count": 5
        }
      ]
    }
  ]
}