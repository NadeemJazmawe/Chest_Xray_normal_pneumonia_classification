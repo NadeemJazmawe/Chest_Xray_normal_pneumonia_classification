{
  "nbformat": 4,
  "nbformat_minor": 0,
  "metadata": {
    "colab": {
      "name": "KNN.ipynb",
      "provenance": [],
      "collapsed_sections": []
    },
    "kernelspec": {
      "name": "python3",
      "display_name": "Python 3"
    },
    "language_info": {
      "name": "python"
    }
  },
  "cells": [
    {
      "cell_type": "markdown",
      "source": [
        "Uploading the Dataset from my Drive"
      ],
      "metadata": {
        "id": "xkYQ3SF2879v"
      }
    },
    {
      "cell_type": "code",
      "source": [
        "# ! gdown https://drive.google.com/drive/folders/1eJPlwS6bd_3SUlm-rh_t7KglTaR4zrIQ?usp=sharing\n",
        "\n",
        "from google.colab import drive\n",
        "drive.mount('/content/gdrive')"
      ],
      "metadata": {
        "id": "ZYRjSknp88bH",
        "colab": {
          "base_uri": "https://localhost:8080/"
        },
        "outputId": "23408fb9-4b5b-4222-a62e-e828494ad795"
      },
      "execution_count": 1,
      "outputs": [
        {
          "output_type": "stream",
          "name": "stdout",
          "text": [
            "Mounted at /content/gdrive\n"
          ]
        }
      ]
    },
    {
      "cell_type": "markdown",
      "source": [
        "Importing libraries"
      ],
      "metadata": {
        "id": "JMMrSVMU8wXR"
      }
    },
    {
      "cell_type": "code",
      "source": [
        "from sklearn.neighbors import KNeighborsClassifier\n",
        "from sklearn.model_selection import train_test_split\n",
        "from imutils import paths\n",
        "import numpy as np\n",
        "import argparse\n",
        "import imutils\n",
        "import cv2\n",
        "import os\n",
        "from tqdm import tqdm\n",
        "import random"
      ],
      "metadata": {
        "id": "sStIQ9yx8whb"
      },
      "execution_count": 2,
      "outputs": []
    },
    {
      "cell_type": "markdown",
      "source": [
        "Building helper function to create the dataset"
      ],
      "metadata": {
        "id": "GI6lKduCl6sW"
      }
    },
    {
      "cell_type": "code",
      "source": [
        "def image_to_feature_vector(image, size=(150, 150)):\n",
        "    return cv2.resize(image, size).flatten()\n",
        "\n",
        "def extract_color_histogram(image, bins=(8, 8, 8)):\n",
        "    hsv = cv2.cvtColor(image, cv2.COLOR_BGR2HSV)\n",
        "    hist = cv2.calcHist([hsv], [0, 1, 2], None, bins, [0, 180, 0, 256, 0, 256])\n",
        "    if imutils.is_cv2():\n",
        "        hist = cv2.normalize(hist)\n",
        "    else:\n",
        "        cv2.normalize(hist, hist)\n",
        "    return hist.flatten()"
      ],
      "metadata": {
        "id": "AH_mDTCel62U"
      },
      "execution_count": 3,
      "outputs": []
    },
    {
      "cell_type": "markdown",
      "source": [
        "Creating the dataset, it spelt to: training/testing/validation data"
      ],
      "metadata": {
        "id": "JaVFhMUkllqc"
      }
    },
    {
      "cell_type": "code",
      "source": [
        "IMG_SIZE = 150\n",
        "categories = [\"NORMAL\", \"PNEUMONIA\"]\n",
        "\n",
        "def create_data(data_path=\"/content/gdrive/MyDrive/chest_xray/train\"):\n",
        "    Created_data = []\n",
        "    for category in categories:\n",
        "\n",
        "        path = os.path.join(data_path,category)\n",
        "        class_num = categories.index(category)\n",
        "        count = 0\n",
        "        for img in tqdm(os.listdir(path)):\n",
        "            count += 1\n",
        "            if class_num == 1 and count == 1352:\n",
        "                break\n",
        "            try:\n",
        "                image = cv2.imread(os.path.join(path, img))\n",
        "                if class_num == 0:\n",
        "                    label = [1, 0]\n",
        "                else:\n",
        "                    label = [0, 1]\n",
        "                pixels = image_to_feature_vector(image)\n",
        "                hist = extract_color_histogram(image)\n",
        "\n",
        "                Created_data.append([pixels, hist, label])\n",
        "            except Exception as e:\n",
        "                pass\n",
        "\n",
        "    return Created_data\n",
        "\n",
        "print(\"Creating training Data: \")\n",
        "training_data = create_data(\"/content/gdrive/MyDrive/chest_xray/train\")\n",
        "\n",
        "print(\"Creating testing Data: \")\n",
        "test_data = create_data(\"/content/gdrive/MyDrive/chest_xray/test\")\n",
        "\n",
        "print(\"Creating validation Data: \")\n",
        "val_data = create_data(\"/content/gdrive/MyDrive/chest_xray/val\")"
      ],
      "metadata": {
        "id": "pt5RMRsC7Or1",
        "colab": {
          "base_uri": "https://localhost:8080/"
        },
        "outputId": "503fd263-c613-4d3c-b69c-309461232f19"
      },
      "execution_count": 4,
      "outputs": [
        {
          "output_type": "stream",
          "name": "stdout",
          "text": [
            "Creating training Data: \n"
          ]
        },
        {
          "output_type": "stream",
          "name": "stderr",
          "text": [
            "100%|██████████| 1352/1352 [02:06<00:00, 10.65it/s]\n",
            " 35%|███▍      | 1351/3876 [01:43<03:13, 13.04it/s]\n"
          ]
        },
        {
          "output_type": "stream",
          "name": "stdout",
          "text": [
            "Creating testing Data: \n"
          ]
        },
        {
          "output_type": "stream",
          "name": "stderr",
          "text": [
            "100%|██████████| 244/244 [00:12<00:00, 19.08it/s]\n",
            "100%|██████████| 390/390 [00:10<00:00, 37.11it/s]\n"
          ]
        },
        {
          "output_type": "stream",
          "name": "stdout",
          "text": [
            "Creating validation Data: \n"
          ]
        },
        {
          "output_type": "stream",
          "name": "stderr",
          "text": [
            "100%|██████████| 9/9 [00:01<00:00,  5.19it/s]\n",
            "100%|██████████| 9/9 [00:01<00:00,  6.58it/s]\n"
          ]
        }
      ]
    },
    {
      "cell_type": "markdown",
      "source": [
        "Shuffling the Data to purpose of reducing variance and making sure that models remain general and overfit less."
      ],
      "metadata": {
        "id": "bCG16u7rYcoJ"
      }
    },
    {
      "cell_type": "code",
      "source": [
        "random.shuffle(training_data)\n",
        "random.shuffle(test_data)\n",
        "random.shuffle(val_data)"
      ],
      "metadata": {
        "id": "VCAlpQgf7PBh"
      },
      "execution_count": 5,
      "outputs": []
    },
    {
      "cell_type": "markdown",
      "source": [
        "Spilting data into categories"
      ],
      "metadata": {
        "id": "NUC7AGnkaidx"
      }
    },
    {
      "cell_type": "code",
      "source": [
        "x_train, x_test, x_val = [], [], []\n",
        "y_train, y_test, y_val = [], [], []\n",
        "\n",
        "x_train_pixel, x_test_pixel, x_val_pixel = [], [], []\n",
        "\n",
        "for pixel,features,label in training_data:\n",
        "    x_train.append(features)\n",
        "    y_train.append(label)\n",
        "    x_train_pixel.append(pixel)\n",
        "    \n",
        "for pixel,features,label in test_data:\n",
        "    x_test.append(features)\n",
        "    y_test.append(label)\n",
        "    x_test_pixel.append(pixel)\n",
        "\n",
        "for pixel,features,label in val_data:\n",
        "    x_val.append(features)\n",
        "    y_val.append(label)\n",
        "    x_val_pixel.append(pixel)\n"
      ],
      "metadata": {
        "id": "VwUOa0ma7PEe"
      },
      "execution_count": 6,
      "outputs": []
    },
    {
      "cell_type": "markdown",
      "source": [
        "Saving data model for using it in another algorithms"
      ],
      "metadata": {
        "id": "_LQsgoMmatBd"
      }
    },
    {
      "cell_type": "code",
      "source": [
        "np.save(\"/content/saved_data/KNN_saved/x_train_pixel.npy\", x_train_pixel)\n",
        "np.save(\"/content/saved_data/KNN_saved/x_train.npy\", x_train)\n",
        "np.save(\"/content/saved_data/KNN_saved/y_train.npy\", y_train)\n",
        "\n",
        "np.save(\"/content/saved_data/KNN_saved/x_test_pixel.npy\", x_test_pixel)\n",
        "np.save(\"/content/saved_data/KNN_saved/x_test.npy\", x_test)\n",
        "np.save(\"/content/saved_data/KNN_saved/y_test.npy\", y_test)\n",
        "\n",
        "np.save(\"/content/saved_data/KNN_saved/x_val_pixel.npy\", x_val_pixel)\n",
        "np.save(\"/content/saved_data/KNN_saved/x_val.npy\", x_val)\n",
        "np.save(\"/content/saved_data/KNN_saved/y_val.npy\", y_val)"
      ],
      "metadata": {
        "id": "IpS-X4VEatpD"
      },
      "execution_count": 7,
      "outputs": []
    },
    {
      "cell_type": "markdown",
      "source": [
        "Running KNN algorithm and checking model accuracy"
      ],
      "metadata": {
        "id": "ltEdM9GYeJe8"
      }
    },
    {
      "cell_type": "code",
      "source": [
        "x_train = np.load(\"/content/saved_data/KNN_saved/x_train.npy\", allow_pickle=True)\n",
        "x_test = np.load(\"/content/saved_data/KNN_saved/x_test.npy\", allow_pickle=True)\n",
        "x_train_pixel = np.load(\"/content/saved_data/KNN_saved/x_train_pixel.npy\", allow_pickle=True)\n",
        "x_test_pixel = np.load(\"/content/saved_data/KNN_saved/x_test_pixel.npy\", allow_pickle=True)\n",
        "y_train = np.load(\"/content/saved_data/KNN_saved/y_train.npy\", allow_pickle=True)\n",
        "y_test = np.load(\"/content/saved_data/KNN_saved/y_test.npy\", allow_pickle=True)\n",
        "\n",
        "print(\"evaluating accuracy...\")\n",
        "model = KNeighborsClassifier(n_neighbors=5,n_jobs=1)\n",
        "model.fit(x_train, y_train)\n",
        "acc = model.score(x_test, y_test)\n",
        "print(\"Accuracy: {:.2f}%\".format(acc * 100))"
      ],
      "metadata": {
        "id": "h1DTd6dy7PPl",
        "colab": {
          "base_uri": "https://localhost:8080/"
        },
        "outputId": "bb59bb69-5f86-4cff-ff26-80e7bb39c44d"
      },
      "execution_count": 8,
      "outputs": [
        {
          "output_type": "stream",
          "name": "stdout",
          "text": [
            "evaluating accuracy...\n",
            "Accuracy: 74.92%\n"
          ]
        }
      ]
    }
  ]
}