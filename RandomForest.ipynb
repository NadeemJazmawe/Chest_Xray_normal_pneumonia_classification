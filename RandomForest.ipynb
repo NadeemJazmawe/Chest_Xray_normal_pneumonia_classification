{
  "nbformat": 4,
  "nbformat_minor": 0,
  "metadata": {
    "colab": {
      "name": "RandomForest.ipynb",
      "provenance": [],
      "collapsed_sections": []
    },
    "kernelspec": {
      "name": "python3",
      "display_name": "Python 3"
    },
    "language_info": {
      "name": "python"
    }
  },
  "cells": [
    {
      "cell_type": "markdown",
      "source": [
        "Uploading the Dataset from my Drive\n"
      ],
      "metadata": {
        "id": "U5F-KJDYpYLL"
      }
    },
    {
      "cell_type": "code",
      "execution_count": 1,
      "metadata": {
        "colab": {
          "base_uri": "https://localhost:8080/"
        },
        "id": "qbyvLNZ_SE2M",
        "outputId": "bcf81393-e3ef-4b62-9d97-f0d06ae8974e"
      },
      "outputs": [
        {
          "output_type": "stream",
          "name": "stdout",
          "text": [
            "Drive already mounted at /content/gdrive; to attempt to forcibly remount, call drive.mount(\"/content/gdrive\", force_remount=True).\n"
          ]
        }
      ],
      "source": [
        "# ! gdown https://drive.google.com/drive/folders/1eJPlwS6bd_3SUlm-rh_t7KglTaR4zrIQ?usp=sharing\n",
        "\n",
        "from google.colab import drive\n",
        "drive.mount('/content/gdrive')"
      ]
    },
    {
      "cell_type": "markdown",
      "source": [
        "Importing libraries"
      ],
      "metadata": {
        "id": "77mQB1skpYOm"
      }
    },
    {
      "cell_type": "code",
      "source": [
        "import tensorflow as tf\n",
        "import random\n",
        "import cv2\n",
        "import numpy as np\n",
        "import matplotlib.pyplot as plt\n",
        "import os\n",
        "from tqdm import tqdm"
      ],
      "metadata": {
        "id": "1xjzd_TYSMN2"
      },
      "execution_count": 2,
      "outputs": []
    },
    {
      "cell_type": "markdown",
      "source": [
        "Creating the DataSet, it spelt to: training/testing/validation data"
      ],
      "metadata": {
        "id": "0hrNpUBPpZjf"
      }
    },
    {
      "cell_type": "code",
      "source": [
        "IMG_SIZE = 150\n",
        "categories = [\"NORMAL\", \"PNEUMONIA\"]\n",
        "\n",
        "def create_data(data_path=\"/content/gdrive/MyDrive/chest_xray/train\"):\n",
        "    Created_data = []\n",
        "    for category in categories:\n",
        "\n",
        "        path = os.path.join(data_path,category)\n",
        "        class_num = categories.index(category) \n",
        "        count = 0\n",
        "        for img in tqdm(os.listdir(path)):\n",
        "            count += 1\n",
        "            if class_num == 1 and count == 1352:\n",
        "                break\n",
        "            try:\n",
        "                img_array = cv2.imread(os.path.join(path,img) ,cv2.IMREAD_GRAYSCALE)\n",
        "                new_array = cv2.resize(img_array, (IMG_SIZE, IMG_SIZE)).flatten()\n",
        "                if class_num == 0:\n",
        "                    array = 0\n",
        "                else:\n",
        "                    array = 1\n",
        "                Created_data.append([new_array, array])\n",
        "            except Exception as e: \n",
        "                pass\n",
        "\n",
        "    return Created_data\n",
        "\n",
        "print(\"Creating training Data: \")\n",
        "training_data = create_data(\"/content/gdrive/MyDrive/chest_xray/train\")\n",
        "\n",
        "print(\"Creating testing Data: \")\n",
        "test_data = create_data(\"/content/gdrive/MyDrive/chest_xray/test\")\n",
        "\n",
        "print(\"Creating validation Data: \")\n",
        "val_data = create_data(\"/content/gdrive/MyDrive/chest_xray/val\")"
      ],
      "metadata": {
        "colab": {
          "base_uri": "https://localhost:8080/"
        },
        "id": "hOptYtl4SMRX",
        "outputId": "31d9433a-650e-4289-b2f3-ab58863fdaf2"
      },
      "execution_count": 3,
      "outputs": [
        {
          "output_type": "stream",
          "name": "stdout",
          "text": [
            "Creating training Data: \n"
          ]
        },
        {
          "output_type": "stream",
          "name": "stderr",
          "text": [
            "100%|██████████| 1352/1352 [00:42<00:00, 31.92it/s]\n",
            " 35%|███▍      | 1351/3876 [00:15<00:29, 84.44it/s] \n"
          ]
        },
        {
          "output_type": "stream",
          "name": "stdout",
          "text": [
            "Creating testing Data: \n"
          ]
        },
        {
          "output_type": "stream",
          "name": "stderr",
          "text": [
            "100%|██████████| 244/244 [00:04<00:00, 50.23it/s]\n",
            "100%|██████████| 390/390 [00:03<00:00, 101.84it/s]\n"
          ]
        },
        {
          "output_type": "stream",
          "name": "stdout",
          "text": [
            "Creating validation Data: \n"
          ]
        },
        {
          "output_type": "stream",
          "name": "stderr",
          "text": [
            "100%|██████████| 9/9 [00:00<00:00, 61.03it/s]\n",
            "100%|██████████| 9/9 [00:00<00:00, 124.36it/s]\n"
          ]
        }
      ]
    },
    {
      "cell_type": "markdown",
      "source": [
        "Shuffling the Data to purpose of reducing variance and making sure that models remain general and overfit less."
      ],
      "metadata": {
        "id": "G1oZ1AFspaQ2"
      }
    },
    {
      "cell_type": "code",
      "source": [
        "random.shuffle(training_data)\n",
        "random.shuffle(test_data)\n",
        "random.shuffle(val_data)"
      ],
      "metadata": {
        "id": "45AhPCwtZxQT"
      },
      "execution_count": 4,
      "outputs": []
    },
    {
      "cell_type": "markdown",
      "source": [
        "Spilting data into categories"
      ],
      "metadata": {
        "id": "6wUCQPT2pbBw"
      }
    },
    {
      "cell_type": "code",
      "source": [
        "x_train, x_test, x_val = [], [], []\n",
        "y_train, y_test, y_val = [], [], []\n",
        "\n",
        "for features,label in training_data:\n",
        "    x_train.append(features)\n",
        "    y_train.append(label)\n",
        "    \n",
        "for features,label in test_data:\n",
        "    x_test.append(features)\n",
        "    y_test.append(label)\n",
        "\n",
        "for features,label in val_data:\n",
        "    x_val.append(features)\n",
        "    y_val.append(label)"
      ],
      "metadata": {
        "id": "nihfkWVHWYAb"
      },
      "execution_count": 5,
      "outputs": []
    },
    {
      "cell_type": "markdown",
      "source": [
        "Converting The data from List to numpy Arrays, So the model can read it."
      ],
      "metadata": {
        "id": "gBOhAwWKpbnp"
      }
    },
    {
      "cell_type": "code",
      "source": [
        "import pandas as pd\n",
        "\n",
        "x_train = pd.DataFrame(np.asarray(x_train))\n",
        "y_train = pd.DataFrame(np.asarray(y_train))\n",
        "\n",
        "x_test = pd.DataFrame(np.asarray(x_test))\n",
        "y_test = pd.DataFrame(np.asarray(y_test))\n",
        "\n",
        "x_val = pd.DataFrame(np.asarray(x_val))\n",
        "y_val = pd.DataFrame(np.asarray(y_val))"
      ],
      "metadata": {
        "id": "10MoAPiOWYDM"
      },
      "execution_count": 6,
      "outputs": []
    },
    {
      "cell_type": "markdown",
      "source": [
        "Inserting Random Forest model from sklearn library.\n",
        "And fiting the model"
      ],
      "metadata": {
        "id": "zGP7n-DmpcS_"
      }
    },
    {
      "cell_type": "code",
      "source": [
        "from sklearn.ensemble import RandomForestClassifier\n",
        "model = RandomForestClassifier(n_estimators=100)\n",
        "model.fit(x_train, y_train)"
      ],
      "metadata": {
        "colab": {
          "base_uri": "https://localhost:8080/"
        },
        "id": "kvmPdBHjXOpw",
        "outputId": "11886a7f-9756-49e9-a92a-22af5228c654"
      },
      "execution_count": 7,
      "outputs": [
        {
          "output_type": "stream",
          "name": "stderr",
          "text": [
            "/usr/local/lib/python3.7/dist-packages/ipykernel_launcher.py:4: DataConversionWarning: A column-vector y was passed when a 1d array was expected. Please change the shape of y to (n_samples,), for example using ravel().\n",
            "  after removing the cwd from sys.path.\n"
          ]
        },
        {
          "output_type": "execute_result",
          "data": {
            "text/plain": [
              "RandomForestClassifier()"
            ]
          },
          "metadata": {},
          "execution_count": 7
        }
      ]
    },
    {
      "cell_type": "markdown",
      "source": [
        "Checking model accuracy"
      ],
      "metadata": {
        "id": "9sF-lyuapdEL"
      }
    },
    {
      "cell_type": "code",
      "source": [
        "acc = model.score(x_test, y_test)\n",
        "print(\"Accuracy: {:.2f}%\".format(acc * 100))"
      ],
      "metadata": {
        "colab": {
          "base_uri": "https://localhost:8080/"
        },
        "id": "BioahjgNXOtO",
        "outputId": "165611d6-ae63-49da-c93c-da1f9c6b83f4"
      },
      "execution_count": 9,
      "outputs": [
        {
          "output_type": "stream",
          "name": "stdout",
          "text": [
            "Accuracy: 84.07%\n"
          ]
        }
      ]
    }
  ]
}